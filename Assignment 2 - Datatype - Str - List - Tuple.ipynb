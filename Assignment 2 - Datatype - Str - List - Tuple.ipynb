{
 "cells": [
  {
   "cell_type": "markdown",
   "metadata": {},
   "source": [
    "1.Write a program to print duplicate characters from String.<br>\n",
    "  Input : \"Programming\"<br> \n",
    "  Output: \"r\", \"m\", \"g\" \n",
    "\n",
    "\n",
    "\n",
    "\n"
   ]
  },
  {
   "cell_type": "markdown",
   "metadata": {},
   "source": [
    "2.Write a program to check if two given strings are an anagram of each other or not.<br>\n",
    "Anagram Strings: Two strings are anagrams if they are written using the exact letters, ignoring space, punctuation, and capitalization.<br>\n",
    "\n",
    "For example : Input: \"Army\" and \"Mary\" \n",
    "Output \"Strings are anagrams of each other\" \n"
   ]
  },
  {
   "cell_type": "markdown",
   "metadata": {},
   "source": [
    "3.Given 3 strings: first, second, and third. Third String is said to be a shuffle of first and second if it can be formed by interleaving the characters of first and second String in a way that maintains the left to right ordering of the characters from each string.<br><br>\n",
    "For example, given first = \"abc\" and second = \"def\", third = \"dabecf\" is a valid shuffle since it preserves the character ordering of the two strings.<br>\n",
    "Given these 3 strings write a program that detects whether the third String is a valid shuffle of first and second String.\n",
    "\n"
   ]
  },
  {
   "cell_type": "markdown",
   "metadata": {},
   "source": [
    "4.Write a program to implement an algorithm which will accept a string of characters and should find the highest occurrence of the character and display it.<br>For example, if the input is \"aaaaaaaabbbcddddeeee\" it should return \"a\". \n",
    " "
   ]
  },
  {
   "cell_type": "markdown",
   "metadata": {},
   "source": [
    "5.In a given string, if adjacent characters are same remove those characters from the string and generate the reduced string<br>\n",
    "\n",
    "For example : aaabccddd => abccddd => abddd => abd \n",
    "\n"
   ]
  },
  {
   "cell_type": "markdown",
   "metadata": {},
   "source": [
    "6.Caesar's cipher shifts each letter by a number of letters. If the shift takes you past the end of the alphabet, just rotate back to the front of the alphabet. In the case of rotation by 3, w, x, y, and z would map to z, a, b and c.<br>\n",
    "For example, if the string is: \"welcome\" and the shift is 4 the output will be \"aipgtqi\"\n"
   ]
  },
  {
   "cell_type": "markdown",
   "metadata": {},
   "source": [
    "7.Write a program to find all pairs in a list of Integers Whose sum is equal to a given Number.<br>\n",
    "\n",
    "For example nums = [1,2,3,4,5] sum = 7 <br>\n",
    "expected output is ans = [(3,4),(2,5),(4,3),(5,2)]\n"
   ]
  },
  {
   "cell_type": "markdown",
   "metadata": {},
   "source": [
    "8.Find all sublists with a sum equal to zero from a given list.<br>\n",
    "\n",
    "For example: input [4,-3,-2,-1,1]<br> \n",
    "expected output [(4,-3,-1),(3,-2,-1),(-1,1),(4,-3,-2,1)]<br> \n",
    "\n"
   ]
  },
  {
   "cell_type": "markdown",
   "metadata": {},
   "source": [
    "9.Given a list of N integers. The task is to eliminate the minimum number of elements such that in the resulting list the sum of any two adjacent values is even.<br>\n",
    "\n",
    "numbers = [1, 3, 5, 4, 2]<br>\n",
    "output = [1, 3, 5] Total elements removed 2 \n",
    "\n"
   ]
  },
  {
   "cell_type": "markdown",
   "metadata": {},
   "source": [
    "10.Write a program, which will find all such numbers between 1000 and 3000 (both included) such that each digit of the number is an even number. Add all such elements into the list and print the list."
   ]
  }
 ],
 "metadata": {
  "kernelspec": {
   "display_name": "Python 3",
   "language": "python",
   "name": "python3"
  },
  "language_info": {
   "codemirror_mode": {
    "name": "ipython",
    "version": 3
   },
   "file_extension": ".py",
   "mimetype": "text/x-python",
   "name": "python",
   "nbconvert_exporter": "python",
   "pygments_lexer": "ipython3",
   "version": "3.6.5"
  }
 },
 "nbformat": 4,
 "nbformat_minor": 2
}
