{
 "cells": [
  {
   "cell_type": "markdown",
   "metadata": {},
   "source": [
    "1.Given 2 numbers, a for the purchase amount in rupees, and b for the quality of service(1-5) received, Calculate the tip according to the following table\n",
    "\n",
    "| Quality | Tip Percent | \n",
    "| --- | --- |\n",
    "| 1 | 5% |\n",
    "| 2 | 10% |\n",
    "| 3 | 15% |\n",
    "| 4 | 20% |\n",
    "| 5 | 25% |"
   ]
  },
  {
   "cell_type": "markdown",
   "metadata": {},
   "source": [
    "2.Write a program to count the total number of notes in a given amount.\n",
    "Valid notes:10, 20, 50, 100, 500, 2000\n",
    "eg : amount 2510, expected output is 2000=1,500=1,10=1"
   ]
  },
  {
   "cell_type": "markdown",
   "metadata": {},
   "source": [
    "3.Write a program to print Collatz Conjecture sequence for number 50.\n",
    "\n",
    "    Collatz Conjecture: Take any number n. If n is even, divide it by 2, if\n",
    "    n is odd, multiply it by 3 and add 1. Repeat the process indefinitely\n",
    "    and you'll eventually reach 1.\n"
   ]
  },
  {
   "cell_type": "markdown",
   "metadata": {},
   "source": [
    "4.Write a program to check if two given strings are an anagram of each other or not.<br>\n",
    "Anagram Strings: Two strings are anagrams if they are written using the exact letters, ignoring space, punctuation, and capitalization.<br>\n",
    "\n",
    "For example : Input: \"Army\" and \"Mary\" \n",
    "Output \"Strings are anagrams of each other\" "
   ]
  },
  {
   "cell_type": "markdown",
   "metadata": {},
   "source": [
    "5.Caesar's cipher shifts each letter by a number of letters. If the shift takes you past the end of the alphabet, just rotate back to the front of the alphabet. In the case of rotation by 3, w, x, y, and z would map to z, a, b and c.<br>\n",
    "For example, if the string is: \"welcome\" and the shift is 4 the output will be \"aipgtqi\""
   ]
  },
  {
   "cell_type": "markdown",
   "metadata": {},
   "source": [
    "6.Write a program to find all pairs in a list of Integers Whose sum is equal to a given Number.<br>\n",
    "\n",
    "For example nums = [1,2,3,4,5] sum = 7 <br>\n",
    "expected output is ans = [(3,4),(2,5),(4,3),(5,2)]"
   ]
  },
  {
   "cell_type": "markdown",
   "metadata": {},
   "source": [
    "7.Given 3 strings: first, second, and third. Third String is said to be a shuffle of first and second if it can be formed by interleaving the characters of first and second String in a way that maintains the left to right ordering of the characters from each string.<br><br>\n",
    "For example, given first = \"abc\" and second = \"def\", third = \"dabecf\" is a valid shuffle since it preserves the character ordering of the two strings.<br>\n",
    "Given these 3 strings write a program that detects whether the third String is a valid shuffle of first and second String."
   ]
  },
  {
   "cell_type": "markdown",
   "metadata": {},
   "source": [
    "8.Given a list of test scores, where the maximum score is 100, write code that prints the number of scores that are in the range 0-9, 10-19, 20-29, ... 80-89, 90-100. For example, given the list of scores :\n",
    "[ 12, 90, 100, 52, 56, 76, 92, 83, 39, 77, 73, 70, 80 ]\n",
    "\n",
    "The output should be :\n",
    "\n",
    "{(1,10): 0, (11,20): 1, (21,30): 0, (31,40): 1, (41,50): 0, (51,60): 2, (61,70): 0, (71,80): 4, (81,90): 2, (91,100): 3}"
   ]
  },
  {
   "cell_type": "markdown",
   "metadata": {},
   "source": [
    "9.In the pre-smartphone era,each number key is assigned a subset of the alphabet {a,b,…,z}: 2 is assigned the subset {a,b,c}, 3 is assigned {d,e,f}, 4 is assigned {g,h,i}, 5 is assigned {j,k,l}, 6 is assigned {m,n,o}, 7 is assigned {p,q,r,s}, 8 is assigned {t,u,v} and 9 is assigned {w,x,y,z}.\n",
    "\n",
    "Write a program to find the characters generated using key 9999335533 output should be \"zeke\" "
   ]
  },
  {
   "cell_type": "markdown",
   "metadata": {},
   "source": [
    "10.Given a dict of tickets(\"to\":\"from\"){\"Chennai\":\"Banglore\",\"Bombay\":\"Delhi\",\"Goa\":\"Chennai\",\"Delhi\":\"Goa\"} find out the sequence of travel.\n",
    "\n",
    "{\"Chennai\":\"Banglore\",\"Bombay\":\"Delhi\",\"Goa\":\"Chennai\",\"Delhi\":\"Goa\"}\n",
    "Expected Output :Bombay->Delhi, Delhi->Goa, Goa->Chennai, Chennai->Banglore"
   ]
  }
 ],
 "metadata": {
  "kernelspec": {
   "display_name": "Python 3",
   "language": "python",
   "name": "python3"
  },
  "language_info": {
   "codemirror_mode": {
    "name": "ipython",
    "version": 3
   },
   "file_extension": ".py",
   "mimetype": "text/x-python",
   "name": "python",
   "nbconvert_exporter": "python",
   "pygments_lexer": "ipython3",
   "version": "3.6.5"
  }
 },
 "nbformat": 4,
 "nbformat_minor": 2
}
