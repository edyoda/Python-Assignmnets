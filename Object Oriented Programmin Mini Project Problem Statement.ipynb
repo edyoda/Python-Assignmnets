{
 "cells": [
  {
   "cell_type": "markdown",
   "metadata": {},
   "source": [
    "Implement a Bike Rental System with following features.\n",
    "\n",
    "Customers\n",
    "    1. See available bikes on the shop\n",
    "    2. Rent bikes on hourly basis $5 per hour.\n",
    "   \n",
    "    3. Rent bikes on daily basis $20 per day.\n",
    "    \n",
    "    4. Rent bikes on weekly basis $60 per week.\n",
    "    5. Group Rental, a promotion that can include from 3 to 5 Rentals (of any type) with a \n",
    "        discount of 30% of the total price\n",
    "\n",
    "Rental shops\n",
    "    1. Issue a bill when customer decides to return the bike.\n",
    "    2. Display available inventory\n",
    "    3. Take requests on hourly, daily and weekly basis by cross verifying stock\n"
   ]
  }
 ],
 "metadata": {
  "kernelspec": {
   "display_name": "Python 3",
   "language": "python",
   "name": "python3"
  },
  "language_info": {
   "codemirror_mode": {
    "name": "ipython",
    "version": 3
   },
   "file_extension": ".py",
   "mimetype": "text/x-python",
   "name": "python",
   "nbconvert_exporter": "python",
   "pygments_lexer": "ipython3",
   "version": "3.6.5"
  }
 },
 "nbformat": 4,
 "nbformat_minor": 2
}
