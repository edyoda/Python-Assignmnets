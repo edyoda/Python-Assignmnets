{
 "cells": [
  {
   "cell_type": "markdown",
   "metadata": {},
   "source": [
    "1.Write a program to count the number of occurrences of a word in below sentenses.<br>\n",
    "Input : \"Python has traditionally checked the up-to-dateness of bytecode cache files by comparing the source metadata with source metadata saved in the cache file header when it was generated. While effective, this invalidation method has its drawbacks. When filesystem timestamps are too coarse, Python can miss source updates, leading to user confusion. Additionally, having a timestamp in the cache file is problematic for build reproducibility and content-based build systems.\"<br>\n",
    "\n",
    "Output : {\"Python\":2,\"metadata\":2,... }"
   ]
  },
  {
   "cell_type": "markdown",
   "metadata": {},
   "source": [
    "2.Given a dictionary that associates the names of states with a list of the names of cities that appear in it,write a program that creates a new dictionary that associates the name of a city with the list of states that it appears in.<br>\n",
    "As an example, if the first dictionary is\n",
    "\n",
    "Input :<br>\n",
    "states = {'New Hampshire': ['Concord', 'Hanover'],\n",
    "\n",
    "    'Massachusetts': ['Boston', 'Concord', 'Springfield'],\n",
    "    \n",
    "    'Illinois': ['Chicago', 'Springfield', 'Peoria']\n",
    "}\n",
    "\n",
    "Output:<br>\n",
    "cities = {'Hanover': ['New Hampshire'],\n",
    "\n",
    "    'Chicago': ['Illinois'],'Boston': ['Massachusetts'], \n",
    "    \n",
    "    'Peoria': ['Illinois'],'Concord': ['New Hampshire','Massachusetts'],\n",
    "    \n",
    "    'Springfield': ['Massachusetts', 'Illinois']\n",
    "}"
   ]
  },
  {
   "cell_type": "markdown",
   "metadata": {},
   "source": [
    "3.Given a list of test scores, where the maximum score is 100, write code that prints the number of scores that are in the range 0-9, 10-19, 20-29, ... 80-89, 90-100. For example, given the list of scores :\n",
    "[ 12, 90, 100, 52, 56, 76, 92, 83, 39, 77, 73, 70, 80 ]\n",
    "\n",
    "The output should be :\n",
    "\n",
    "{(0,9): 0, (10,19): 1, (20,29): 0, (30,39): 1, (40,49): 0, (50,59): 2, (60,69): 0, (70,79): 4, (80,89): 2, (90,100): 3}"
   ]
  },
  {
   "cell_type": "markdown",
   "metadata": {},
   "source": [
    "4.Consider a data, where the name of the restaurant, the type of restaurant, and the ratings are provided. Assume these values have already been read into a list of lists of the form below:<br>\n",
    "restaurants = [ [ Acme, Italian, 2, 4, 3, 5],[ Flintstone, Steak, 5, 2, 4, 3, 3, 4],[ Bella Troy, Italian, 1, 4, 5] ]<br>\n",
    "\n",
    "Write a program code that prints all Italian restaurants in the restaurants list that have no ratings of value 1 and at least one rating of value 5.\n",
    "\n",
    "\n",
    "In the above example, Acme would be printed in the output, but Flintstone and Bella Troy would not. Flintstone is not Italian and Bella Troy has a 1 rating. \n"
   ]
  },
  {
   "cell_type": "markdown",
   "metadata": {},
   "source": [
    "5.In the pre-smartphone era,each number key is assigned a subset of the alphabet {a,b,…,z}: 2 is assigned the subset {a,b,c}, 3 is assigned {d,e,f}, 4 is assigned {g,h,i}, 5 is assigned {j,k,l}, 6 is assigned {m,n,o}, 7 is assigned {p,q,r,s}, 8 is assigned {t,u,v} and 9 is assigned {w,x,y,z}.\n",
    "\n",
    "Write a program to find the characters generated using key 9999335533 output should be \"zeke\" "
   ]
  },
  {
   "cell_type": "markdown",
   "metadata": {},
   "source": [
    "6.Given a dictionary called clubs where each key is the name of a club (a string), and each value is the set of id strings for the students in the club. Write a segment of Python code that creates a set of all student ids that are in all the clubs in the dictionary"
   ]
  },
  {
   "cell_type": "markdown",
   "metadata": {},
   "source": [
    "7.You are given three sentences in three strings str1,str2,str3. Assume the sentences contain no punctuation and have a single space between the words. Write a piece of code that prints the following:\n",
    "\n",
    "(a) The set of words that appear in str1 but not in str2 and not in str3.\n",
    "\n",
    "(b) The set of words that appear in all three sentences. \n",
    "\n",
    "(c) The set of words that appear in exactly two of the three sentences \n",
    "\n",
    "Remember, words are not case sensitive. For example, if you are given the sentences:\n",
    "str1 = \"Hail dear old Rensselaer the college of our heart\" \n",
    "str2 = \"For dear old Rensselaer we all must do our part\" \n",
    "str3 = \"True to old Rensselaer we will always strive to be\"\n",
    "\n",
    "Output: \n",
    "a) set(['heart', 'the', 'college', 'hail', 'of']) \n",
    "\n",
    "b) set(['old', 'rensselaer'])\n",
    "\n",
    "c) set(['dear', 'our', 'we'])"
   ]
  }
 ],
 "metadata": {
  "kernelspec": {
   "display_name": "Python 3",
   "language": "python",
   "name": "python3"
  },
  "language_info": {
   "codemirror_mode": {
    "name": "ipython",
    "version": 3
   },
   "file_extension": ".py",
   "mimetype": "text/x-python",
   "name": "python",
   "nbconvert_exporter": "python",
   "pygments_lexer": "ipython3",
   "version": "3.6.5"
  }
 },
 "nbformat": 4,
 "nbformat_minor": 2
}
