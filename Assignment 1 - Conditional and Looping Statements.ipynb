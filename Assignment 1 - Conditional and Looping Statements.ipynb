{
 "cells": [
  {
   "cell_type": "markdown",
   "metadata": {},
   "source": [
    "1. Write a program to check if a given year is a leap year or not.\n",
    "Leap year: a year is said to be a leap year, if the year is exactly   \n",
    "divisible by 4 but and not divisible by 100\n",
    "\n",
    "\n",
    "2. Write a program to check whether a triangle is valid or not if angles are given. Valid Triangle: Sum of all the angles should be 180.\n",
    "All the angles should be greater than zero\n"
   ]
  },
  {
   "cell_type": "markdown",
   "metadata": {},
   "source": [
    "\n"
   ]
  },
  {
   "cell_type": "markdown",
   "metadata": {},
   "source": [
    "3. Write a program to input electricity unit charge and calculate the total electricity bill according to the given conditions:\n",
    "    - For the first 50 units Rs. 0.50/unit\n",
    "    - For the next 100 units Rs. 0.75/unit\n",
    "    - For the next 100 units Rs. 1.20/unit\n",
    "    - For unit above 250 Rs. 1.50/unit\n",
    "\n",
    "Also, an additional surcharge of 20% should be added to the bill.\n"
   ]
  },
  {
   "cell_type": "markdown",
   "metadata": {},
   "source": [
    "4. Given 2 numbers, a for the purchase amount in rupees, and b for the quality of service(1-5) received, Calculate the tip according to the following table\n",
    "\n",
    "| Quality | Tip Percent | \n",
    "| --- | --- |\n",
    "| 1 | 5% |\n",
    "| 2 | 10% |\n",
    "| 3 | 15% |\n",
    "| 4 | 20% |\n",
    "| 5 | 25% |\n",
    " "
   ]
  },
  {
   "cell_type": "markdown",
   "metadata": {},
   "source": [
    "5.\tWrite a program to count the total number of notes in a given amount.\n",
    "Valid notes:10, 20, 50, 100, 500, 2000\n",
    "eg : amount 2510, expected output is 2000=1,500=1,10=1\n"
   ]
  },
  {
   "cell_type": "markdown",
   "metadata": {},
   "source": [
    "6.\tPrint all the numbers from 1 to 50 but skip all multiples of 7. Also, skip any number that has a 7 in it, such as 27."
   ]
  },
  {
   "cell_type": "markdown",
   "metadata": {},
   "source": [
    "7.\tWrite a program to calculate the sum of the squares of all the numbers from 10 to 20 (both inclusive)"
   ]
  },
  {
   "cell_type": "markdown",
   "metadata": {},
   "source": [
    "8.\tWrite a program to print Collatz Conjecture sequence for number 50.\n",
    "\n",
    "    Collatz Conjecture: Take any number n. If n is even, divide it by 2, if\n",
    "    n is odd, multiply it by 3 and add 1. Repeat the process indefinitely\n",
    "    and you'll eventually reach 1.\n"
   ]
  },
  {
   "cell_type": "markdown",
   "metadata": {},
   "source": [
    "9.\tGiven two numbers a and b calculate the Least Common Multiple (LCM).\n",
    "LCM of a and b is the smallest number that is a multiple of both a and b.\n"
   ]
  },
  {
   "cell_type": "markdown",
   "metadata": {},
   "source": [
    "10.\tWrite a program that prompts the user to input an integer and then outputs the number with the digits reversed. For example, if the input is 12345, the output should be 54321"
   ]
  },
  {
   "cell_type": "code",
   "execution_count": null,
   "metadata": {},
   "outputs": [],
   "source": []
  }
 ],
 "metadata": {
  "kernelspec": {
   "display_name": "Python 3",
   "language": "python",
   "name": "python3"
  },
  "language_info": {
   "codemirror_mode": {
    "name": "ipython",
    "version": 3
   },
   "file_extension": ".py",
   "mimetype": "text/x-python",
   "name": "python",
   "nbconvert_exporter": "python",
   "pygments_lexer": "ipython3",
   "version": "3.6.5"
  }
 },
 "nbformat": 4,
 "nbformat_minor": 2
}
